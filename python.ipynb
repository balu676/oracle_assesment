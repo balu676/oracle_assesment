{
 "cells": [
  {
   "cell_type": "markdown",
   "metadata": {},
   "source": [
    "### 1. Find the avg time of each opeartion - This is termed as the total time taken by each operation divided by the total number of operations?"
   ]
  },
  {
   "cell_type": "code",
   "execution_count": 2,
   "metadata": {},
   "outputs": [
    {
     "name": "stdout",
     "output_type": "stream",
     "text": [
      "Create: Average Duration = 45.00 minutes\n",
      "Update: Average Duration = 70.00 minutes\n",
      "Delete: Average Duration = 135.00 minutes\n",
      "Read: Average Duration = 60.00 minutes\n"
     ]
    }
   ],
   "source": [
    "import csv\n",
    "from datetime import datetime\n",
    "\n",
    "# Sample CSV data as a string for demonstration purposes\n",
    "csv_data = \"\"\"Operation,Start,End\n",
    "Create,12:00,13:00\n",
    "Create,12:10,13:00\n",
    "Create,12:20,13:20\n",
    "Update,12:00,13:10\n",
    "Create,13:50,14:00\n",
    "Delete,14:00,14:30\n",
    "Read,15:00,16:00\n",
    "Delete,11:00,15:00\n",
    "\"\"\"\n",
    "\n",
    "# Function to calculate the average duration of operations\n",
    "def calculate_average_durations(csv_content):\n",
    "    operation_durations = {}\n",
    "    operation_counts = {}\n",
    "\n",
    "    # Read the CSV data\n",
    "    reader = csv.reader(csv_content.strip().splitlines())\n",
    "    header = next(reader)  # Skip the header\n",
    "\n",
    "    for row in reader:\n",
    "        operation, start_time, end_time = row\n",
    "        \n",
    "        # Convert start and end times to datetime objects\n",
    "        start = datetime.strptime(start_time, '%H:%M')\n",
    "        end = datetime.strptime(end_time, '%H:%M')\n",
    "        \n",
    "        # Calculate duration in minutes\n",
    "        duration = (end - start).total_seconds() / 60\n",
    "        \n",
    "        # Update total duration and count for the operation\n",
    "        if operation in operation_durations:\n",
    "            operation_durations[operation] += duration\n",
    "            operation_counts[operation] += 1\n",
    "        else:\n",
    "            operation_durations[operation] = duration\n",
    "            operation_counts[operation] = 1\n",
    "\n",
    "    # Calculate average durations\n",
    "    average_durations = {}\n",
    "    for operation in operation_durations:\n",
    "        average_durations[operation] = operation_durations[operation] / operation_counts[operation]\n",
    "\n",
    "    return average_durations\n",
    "\n",
    "# Calculate average durations from the CSV data\n",
    "average_durations = calculate_average_durations(csv_data)\n",
    "\n",
    "# Print the results\n",
    "for operation, avg_duration in average_durations.items():\n",
    "    print(f\"{operation}: Average Duration = {avg_duration:.2f} minutes\")\n"
   ]
  },
  {
   "cell_type": "markdown",
   "metadata": {},
   "source": [
    "### 2. Find the operation with the max time- The operation with the maxtime?"
   ]
  },
  {
   "cell_type": "code",
   "execution_count": 3,
   "metadata": {},
   "outputs": [
    {
     "name": "stdout",
     "output_type": "stream",
     "text": [
      "Operation with maximum duration: Delete with duration = 240.00 minutes\n"
     ]
    }
   ],
   "source": [
    "import csv\n",
    "from datetime import datetime\n",
    "\n",
    "# Sample CSV data as a string for demonstration purposes\n",
    "csv_data = \"\"\"Operation,Start,End\n",
    "Create,12:00,13:00\n",
    "Create,12:10,13:00\n",
    "Create,12:20,13:20\n",
    "Update,12:00,13:10\n",
    "Create,13:50,14:00\n",
    "Delete,14:00,14:30\n",
    "Read,15:00,16:00\n",
    "Delete,11:00,15:00\n",
    "\"\"\"\n",
    "\n",
    "# Function to find the operation with the maximum duration\n",
    "def find_operation_with_max_duration(csv_content):\n",
    "    max_duration = 0\n",
    "    max_operation = None\n",
    "\n",
    "    # Read the CSV data\n",
    "    reader = csv.reader(csv_content.strip().splitlines())\n",
    "    header = next(reader)  # Skip the header\n",
    "\n",
    "    for row in reader:\n",
    "        operation, start_time, end_time = row\n",
    "        \n",
    "        # Convert start and end times to datetime objects\n",
    "        start = datetime.strptime(start_time, '%H:%M')\n",
    "        end = datetime.strptime(end_time, '%H:%M')\n",
    "        \n",
    "        # Calculate duration in minutes\n",
    "        duration = (end - start).total_seconds() / 60\n",
    "        \n",
    "        # Check if this duration is the maximum we've seen\n",
    "        if duration > max_duration:\n",
    "            max_duration = duration\n",
    "            max_operation = operation\n",
    "\n",
    "    return max_operation, max_duration\n",
    "\n",
    "# Find the operation with the maximum duration from the CSV data\n",
    "max_operation, max_duration = find_operation_with_max_duration(csv_data)\n",
    "\n",
    "# Print the result\n",
    "print(f\"Operation with maximum duration: {max_operation} with duration = {max_duration:.2f} minutes\")"
   ]
  },
  {
   "cell_type": "markdown",
   "metadata": {},
   "source": [
    "### 3. Merge operations - Here you need to merge overlapping operation into smaller operations.Inshort given an array of intervals where intervals[i] = [starti, endi], merge all overlapping intervals, and return an array of the non-overlapping intervals that cover all the intervals in the input."
   ]
  },
  {
   "cell_type": "code",
   "execution_count": 4,
   "metadata": {},
   "outputs": [
    {
     "name": "stdout",
     "output_type": "stream",
     "text": [
      "Create -- [12:0],[12:10],[12:50]\n",
      "Delete -- [11:0],[14:0],[14:35]\n",
      "Read -- [15:0]\n",
      "Update -- [12:0],[13:10]\n"
     ]
    }
   ],
   "source": [
    "def merge_intervals(intervals):\n",
    "    if not intervals:\n",
    "        return []\n",
    "\n",
    "    # Sort intervals by the start time\n",
    "    intervals.sort(key=lambda x: x[0])\n",
    "    \n",
    "    merged = [intervals[0]]  # Start with the first interval\n",
    "\n",
    "    for current in intervals[1:]:\n",
    "        last_merged = merged[-1]\n",
    "\n",
    "        # If the current interval overlaps with the last merged interval, merge them\n",
    "        if current[0] <= last_merged[1]:\n",
    "            last_merged[1] = max(last_merged[1], current[1])  # Merge the intervals\n",
    "        else:\n",
    "            merged.append(current)  # No overlap, add the current interval\n",
    "\n",
    "    return merged\n",
    "\n",
    "def process_operations(operations):\n",
    "    merged_operations = {}\n",
    "\n",
    "    for operation, intervals in operations.items():\n",
    "        # Merge intervals for each operation\n",
    "        merged_intervals = merge_intervals(intervals)\n",
    "        merged_operations[operation] = merged_intervals\n",
    "\n",
    "    return merged_operations\n",
    "\n",
    "# Input data\n",
    "operations = {\n",
    "    \"Create\": [[12, 0], [12, 10], [12, 20], [13, 50]],\n",
    "    \"Delete\": [[14, 0], [14, 35], [11, 0]],\n",
    "    \"Read\": [[15, 0]],\n",
    "    \"Update\": [[12, 0], [13, 10]]\n",
    "}\n",
    "\n",
    "# Process the operations to merge intervals\n",
    "merged_operations = process_operations(operations)\n",
    "\n",
    "# Print the output in the desired format\n",
    "for operation, intervals in merged_operations.items():\n",
    "    formatted_intervals = [f\"[{start}:{end}]\" for start, end in intervals]\n",
    "    print(f\"{operation} -- {','.join(formatted_intervals)}\")"
   ]
  }
 ],
 "metadata": {
  "kernelspec": {
   "display_name": "Python 3",
   "language": "python",
   "name": "python3"
  },
  "language_info": {
   "codemirror_mode": {
    "name": "ipython",
    "version": 3
   },
   "file_extension": ".py",
   "mimetype": "text/x-python",
   "name": "python",
   "nbconvert_exporter": "python",
   "pygments_lexer": "ipython3",
   "version": "3.11.9"
  }
 },
 "nbformat": 4,
 "nbformat_minor": 2
}
